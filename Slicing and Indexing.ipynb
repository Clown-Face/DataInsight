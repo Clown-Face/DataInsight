{
 "cells": [
  {
   "cell_type": "code",
   "execution_count": 12,
   "id": "49e27339",
   "metadata": {},
   "outputs": [],
   "source": [
    "new_list = ['a','b','c','d','e']"
   ]
  },
  {
   "cell_type": "markdown",
   "id": "9f49d73f",
   "metadata": {},
   "source": [
    "## Indexing"
   ]
  },
  {
   "cell_type": "markdown",
   "id": "60255747",
   "metadata": {},
   "source": [
    "Index numbering always begind from number 0"
   ]
  },
  {
   "cell_type": "code",
   "execution_count": 23,
   "id": "d654f8b3",
   "metadata": {},
   "outputs": [
    {
     "data": {
      "text/plain": [
       "'a'"
      ]
     },
     "execution_count": 23,
     "metadata": {},
     "output_type": "execute_result"
    }
   ],
   "source": [
    "new_list[0]"
   ]
  },
  {
   "cell_type": "code",
   "execution_count": 24,
   "id": "6cee5643",
   "metadata": {},
   "outputs": [
    {
     "data": {
      "text/plain": [
       "'e'"
      ]
     },
     "execution_count": 24,
     "metadata": {},
     "output_type": "execute_result"
    }
   ],
   "source": [
    "new_list[4]"
   ]
  },
  {
   "cell_type": "markdown",
   "id": "d632fe3e",
   "metadata": {},
   "source": [
    "Python also accepts negative indexing. Negative indexing counts from right to left. However, negative indexing starts from -1 and not 0."
   ]
  },
  {
   "cell_type": "code",
   "execution_count": 25,
   "id": "00338853",
   "metadata": {},
   "outputs": [
    {
     "data": {
      "text/plain": [
       "'e'"
      ]
     },
     "execution_count": 25,
     "metadata": {},
     "output_type": "execute_result"
    }
   ],
   "source": [
    "new_list[-1]"
   ]
  },
  {
   "cell_type": "code",
   "execution_count": 26,
   "id": "8853b1e7",
   "metadata": {},
   "outputs": [
    {
     "data": {
      "text/plain": [
       "'c'"
      ]
     },
     "execution_count": 26,
     "metadata": {},
     "output_type": "execute_result"
    }
   ],
   "source": [
    "new_list[-3]"
   ]
  },
  {
   "cell_type": "markdown",
   "id": "5c8def33",
   "metadata": {},
   "source": [
    "String can also be indexed in python."
   ]
  },
  {
   "cell_type": "code",
   "execution_count": 28,
   "id": "0830a276",
   "metadata": {},
   "outputs": [],
   "source": [
    "# creating a string variable\n",
    "\n",
    "x = 'Python'"
   ]
  },
  {
   "cell_type": "code",
   "execution_count": 29,
   "id": "8287fd63",
   "metadata": {},
   "outputs": [
    {
     "data": {
      "text/plain": [
       "'P'"
      ]
     },
     "execution_count": 29,
     "metadata": {},
     "output_type": "execute_result"
    }
   ],
   "source": [
    "x[0]"
   ]
  },
  {
   "cell_type": "code",
   "execution_count": 30,
   "id": "2da38c1f",
   "metadata": {},
   "outputs": [
    {
     "data": {
      "text/plain": [
       "'n'"
      ]
     },
     "execution_count": 30,
     "metadata": {},
     "output_type": "execute_result"
    }
   ],
   "source": [
    "x[5]"
   ]
  },
  {
   "cell_type": "code",
   "execution_count": 31,
   "id": "b3c8ee6c",
   "metadata": {},
   "outputs": [
    {
     "data": {
      "text/plain": [
       "'t'"
      ]
     },
     "execution_count": 31,
     "metadata": {},
     "output_type": "execute_result"
    }
   ],
   "source": [
    "x[-4]"
   ]
  },
  {
   "cell_type": "markdown",
   "id": "8ffa0f3d",
   "metadata": {},
   "source": [
    "## Slicing"
   ]
  },
  {
   "cell_type": "markdown",
   "id": "23b7b0ad",
   "metadata": {},
   "source": [
    "The syntax of slicing is `iterable[start:stop:range]`"
   ]
  },
  {
   "cell_type": "markdown",
   "id": "253b2f47",
   "metadata": {},
   "source": [
    "For the `new_list` defined above:"
   ]
  },
  {
   "cell_type": "code",
   "execution_count": 32,
   "id": "dcecec58",
   "metadata": {},
   "outputs": [
    {
     "data": {
      "text/plain": [
       "['a', 'b', 'c']"
      ]
     },
     "execution_count": 32,
     "metadata": {},
     "output_type": "execute_result"
    }
   ],
   "source": [
    "new_list[0:3]"
   ]
  },
  {
   "cell_type": "markdown",
   "id": "6a6d851b",
   "metadata": {},
   "source": [
    "Remember the indexing starts from 0 when going from left to right.\n",
    "\n",
    "_Notice how the stop element is exlusive, i.e. the element of index 3 is not included in the results._"
   ]
  },
  {
   "cell_type": "markdown",
   "id": "bb17109c",
   "metadata": {},
   "source": [
    "Slicing can also be done through negative indexing."
   ]
  },
  {
   "cell_type": "code",
   "execution_count": 33,
   "id": "780a4d8e",
   "metadata": {},
   "outputs": [
    {
     "data": {
      "text/plain": [
       "['a', 'b', 'c', 'd']"
      ]
     },
     "execution_count": 33,
     "metadata": {},
     "output_type": "execute_result"
    }
   ],
   "source": [
    "new_list[-5:-1]"
   ]
  },
  {
   "cell_type": "markdown",
   "id": "acafb792",
   "metadata": {},
   "source": [
    "Keep in mind that while slicing, the elments should be right of start element and left of stop element."
   ]
  },
  {
   "cell_type": "code",
   "execution_count": 34,
   "id": "b2352ed3",
   "metadata": {},
   "outputs": [
    {
     "data": {
      "text/plain": [
       "[]"
      ]
     },
     "execution_count": 34,
     "metadata": {},
     "output_type": "execute_result"
    }
   ],
   "source": [
    "new_list[-1:-5]"
   ]
  },
  {
   "cell_type": "markdown",
   "id": "be3d89b2",
   "metadata": {},
   "source": [
    "In the above code, there is nothing right of -1 (the last element) which results in empty list."
   ]
  },
  {
   "cell_type": "markdown",
   "id": "1a3aec15",
   "metadata": {},
   "source": [
    "Also remember, there should be elements to the left of start index and right of stop index when the stp count is negative. For eg."
   ]
  },
  {
   "cell_type": "code",
   "execution_count": 35,
   "id": "9d576ac5",
   "metadata": {},
   "outputs": [
    {
     "data": {
      "text/plain": [
       "['e', 'd', 'c', 'b']"
      ]
     },
     "execution_count": 35,
     "metadata": {},
     "output_type": "execute_result"
    }
   ],
   "source": [
    "new_list[-1:-5:-1]"
   ]
  },
  {
   "cell_type": "markdown",
   "id": "932831cb",
   "metadata": {},
   "source": [
    "The step is used to jump elements."
   ]
  },
  {
   "cell_type": "code",
   "execution_count": 13,
   "id": "f2804590",
   "metadata": {},
   "outputs": [
    {
     "data": {
      "text/plain": [
       "['a', 'c']"
      ]
     },
     "execution_count": 13,
     "metadata": {},
     "output_type": "execute_result"
    }
   ],
   "source": [
    "new_list[0:4:2]"
   ]
  },
  {
   "cell_type": "markdown",
   "id": "d1d3fee5",
   "metadata": {},
   "source": [
    "Here every second element is printed from the start index, i.e. every one element is skipped."
   ]
  },
  {
   "cell_type": "markdown",
   "id": "40d562a5",
   "metadata": {},
   "source": [
    "In order to print from the very beginning of a list, there is no need to specify the 0 index and instead can be done as"
   ]
  },
  {
   "cell_type": "code",
   "execution_count": 20,
   "id": "faeee0ac",
   "metadata": {},
   "outputs": [
    {
     "data": {
      "text/plain": [
       "['a', 'b', 'c']"
      ]
     },
     "execution_count": 20,
     "metadata": {},
     "output_type": "execute_result"
    }
   ],
   "source": [
    "new_list[:3]"
   ]
  },
  {
   "cell_type": "markdown",
   "id": "a30b25b5",
   "metadata": {},
   "source": [
    "Since the stop is exlusive, in order to inlcude the last element, the _stop_ can be left empty as follows:"
   ]
  },
  {
   "cell_type": "code",
   "execution_count": 21,
   "id": "a9cc063d",
   "metadata": {},
   "outputs": [
    {
     "data": {
      "text/plain": [
       "['b', 'c', 'd', 'e']"
      ]
     },
     "execution_count": 21,
     "metadata": {},
     "output_type": "execute_result"
    }
   ],
   "source": [
    "new_list[1:]"
   ]
  },
  {
   "cell_type": "markdown",
   "id": "db739173",
   "metadata": {},
   "source": [
    "The following code prints all the elements from the start to the end skipping one element each time."
   ]
  },
  {
   "cell_type": "code",
   "execution_count": 22,
   "id": "dd12df4e",
   "metadata": {},
   "outputs": [
    {
     "data": {
      "text/plain": [
       "['a', 'c', 'e']"
      ]
     },
     "execution_count": 22,
     "metadata": {},
     "output_type": "execute_result"
    }
   ],
   "source": [
    "new_list[::2]"
   ]
  },
  {
   "cell_type": "code",
   "execution_count": null,
   "id": "07ca3228",
   "metadata": {},
   "outputs": [],
   "source": []
  }
 ],
 "metadata": {
  "kernelspec": {
   "display_name": "Python 3",
   "language": "python",
   "name": "python3"
  },
  "language_info": {
   "codemirror_mode": {
    "name": "ipython",
    "version": 3
   },
   "file_extension": ".py",
   "mimetype": "text/x-python",
   "name": "python",
   "nbconvert_exporter": "python",
   "pygments_lexer": "ipython3",
   "version": "3.8.8"
  }
 },
 "nbformat": 4,
 "nbformat_minor": 5
}
