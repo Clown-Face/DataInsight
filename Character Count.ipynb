{
 "cells": [
  {
   "cell_type": "markdown",
   "id": "efd48734",
   "metadata": {},
   "source": [
    "## To count the occurances in a given word, phrase or sentence"
   ]
  },
  {
   "cell_type": "markdown",
   "id": "e70e169d",
   "metadata": {},
   "source": [
    "__Step 1__: Ask the user for input (can be words or sentences)."
   ]
  },
  {
   "cell_type": "code",
   "execution_count": 1,
   "id": "0b3fd4fb",
   "metadata": {},
   "outputs": [
    {
     "name": "stdout",
     "output_type": "stream",
     "text": [
      "Enter a word or sentence: writing simple apps with python\n"
     ]
    }
   ],
   "source": [
    "user_input = input('Enter a word or sentence: ')"
   ]
  },
  {
   "cell_type": "markdown",
   "id": "1dce30a3",
   "metadata": {},
   "source": [
    "__Step 2__: Extract each letters from the user input and store them in a list `letters` and store the alphabetically sorted unique character from letters in the list `sorted_letters`. _(Since the letters are identified by ASCII characters, small and capitalized letters are identified differently and thus all the letters are capitalized here)_"
   ]
  },
  {
   "cell_type": "code",
   "execution_count": 2,
   "id": "d7185783",
   "metadata": {},
   "outputs": [],
   "source": [
    "letters = list(user_input.upper())\n",
    "sorted_letters = list(sorted(set(letters)))"
   ]
  },
  {
   "cell_type": "markdown",
   "id": "1cddae13",
   "metadata": {},
   "source": [
    "__Step 3__: Initiate an empty list `count` to store the occurance of each character."
   ]
  },
  {
   "cell_type": "code",
   "execution_count": 3,
   "id": "4fde8141",
   "metadata": {},
   "outputs": [],
   "source": [
    "count = []"
   ]
  },
  {
   "cell_type": "markdown",
   "id": "fbc81de0",
   "metadata": {},
   "source": [
    "__Step 4__: Create a nested loop to loop through `sorted_letters` and `letters`. If the element in `sorted_letters` matches with the element in `letters` increase the counter `c` by 1. Append the counter to the list `count`."
   ]
  },
  {
   "cell_type": "code",
   "execution_count": 4,
   "id": "9e886ff5",
   "metadata": {},
   "outputs": [],
   "source": [
    "for s in sorted_letters:\n",
    "    c = 0\n",
    "    for x in letters:\n",
    "        if s == x:\n",
    "            c += 1\n",
    "    count.append(c)"
   ]
  },
  {
   "cell_type": "markdown",
   "id": "d3804dda",
   "metadata": {},
   "source": [
    "__Step 5__: Since the first element in `sorted_list` is a space, the characters are initiated from the second element in the list (Index 1) in both the list `sorted_letters` and `count`."
   ]
  },
  {
   "cell_type": "code",
   "execution_count": 5,
   "id": "84fe8192",
   "metadata": {},
   "outputs": [
    {
     "name": "stdout",
     "output_type": "stream",
     "text": [
      "There are 1 letter A in the provided word/sentence\n",
      "There are 1 letter E in the provided word/sentence\n",
      "There are 1 letter G in the provided word/sentence\n",
      "There are 2 letter H in the provided word/sentence\n",
      "There are 4 letter I in the provided word/sentence\n",
      "There are 1 letter L in the provided word/sentence\n",
      "There are 1 letter M in the provided word/sentence\n",
      "There are 2 letter N in the provided word/sentence\n",
      "There are 1 letter O in the provided word/sentence\n",
      "There are 4 letter P in the provided word/sentence\n",
      "There are 1 letter R in the provided word/sentence\n",
      "There are 2 letter S in the provided word/sentence\n",
      "There are 3 letter T in the provided word/sentence\n",
      "There are 2 letter W in the provided word/sentence\n",
      "There are 1 letter Y in the provided word/sentence\n"
     ]
    }
   ],
   "source": [
    "for i in range(len(sorted_letters)):\n",
    "    if (i+1)<len(sorted_letters):\n",
    "        print('There are {} letter {} in the provided word/sentence'.format(count[i+1],sorted_letters[i+1]))"
   ]
  },
  {
   "cell_type": "code",
   "execution_count": null,
   "id": "c80e03eb",
   "metadata": {},
   "outputs": [],
   "source": []
  }
 ],
 "metadata": {
  "kernelspec": {
   "display_name": "Python 3",
   "language": "python",
   "name": "python3"
  },
  "language_info": {
   "codemirror_mode": {
    "name": "ipython",
    "version": 3
   },
   "file_extension": ".py",
   "mimetype": "text/x-python",
   "name": "python",
   "nbconvert_exporter": "python",
   "pygments_lexer": "ipython3",
   "version": "3.8.8"
  }
 },
 "nbformat": 4,
 "nbformat_minor": 5
}
