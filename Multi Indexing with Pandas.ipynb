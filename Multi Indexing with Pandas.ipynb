{
 "cells": [
  {
   "cell_type": "markdown",
   "id": "c13b06f9",
   "metadata": {},
   "source": [
    "## Multi-Indexing (Hierarchical Indexing)"
   ]
  },
  {
   "cell_type": "markdown",
   "id": "0d38e685",
   "metadata": {},
   "source": [
    "### Importing `pandas`"
   ]
  },
  {
   "cell_type": "code",
   "execution_count": 1,
   "id": "b82a7b32",
   "metadata": {},
   "outputs": [],
   "source": [
    "import pandas as pd"
   ]
  },
  {
   "cell_type": "markdown",
   "id": "05b91cd9",
   "metadata": {},
   "source": [
    "For this example, we create a simple table with the population of different states of the USA for two different years (2010 and 2011)"
   ]
  },
  {
   "cell_type": "code",
   "execution_count": 2,
   "id": "c76bfa1c",
   "metadata": {},
   "outputs": [],
   "source": [
    "#definign a table (DataFrame)\n",
    "df=  pd.DataFrame({'Country': ['California','California','New York','New York', 'Texas','Texas'],\n",
    "                  'Year': [2010,2011,2010,2011,2010,2011],\n",
    "                  'Population': [33871648,37253956,18976457,19378102,20851820,25145561]})"
   ]
  },
  {
   "cell_type": "code",
   "execution_count": 3,
   "id": "ffade37d",
   "metadata": {},
   "outputs": [
    {
     "data": {
      "text/html": [
       "<div>\n",
       "<style scoped>\n",
       "    .dataframe tbody tr th:only-of-type {\n",
       "        vertical-align: middle;\n",
       "    }\n",
       "\n",
       "    .dataframe tbody tr th {\n",
       "        vertical-align: top;\n",
       "    }\n",
       "\n",
       "    .dataframe thead th {\n",
       "        text-align: right;\n",
       "    }\n",
       "</style>\n",
       "<table border=\"1\" class=\"dataframe\">\n",
       "  <thead>\n",
       "    <tr style=\"text-align: right;\">\n",
       "      <th></th>\n",
       "      <th>Country</th>\n",
       "      <th>Year</th>\n",
       "      <th>Population</th>\n",
       "    </tr>\n",
       "  </thead>\n",
       "  <tbody>\n",
       "    <tr>\n",
       "      <th>0</th>\n",
       "      <td>California</td>\n",
       "      <td>2010</td>\n",
       "      <td>33871648</td>\n",
       "    </tr>\n",
       "    <tr>\n",
       "      <th>1</th>\n",
       "      <td>California</td>\n",
       "      <td>2011</td>\n",
       "      <td>37253956</td>\n",
       "    </tr>\n",
       "    <tr>\n",
       "      <th>2</th>\n",
       "      <td>New York</td>\n",
       "      <td>2010</td>\n",
       "      <td>18976457</td>\n",
       "    </tr>\n",
       "    <tr>\n",
       "      <th>3</th>\n",
       "      <td>New York</td>\n",
       "      <td>2011</td>\n",
       "      <td>19378102</td>\n",
       "    </tr>\n",
       "    <tr>\n",
       "      <th>4</th>\n",
       "      <td>Texas</td>\n",
       "      <td>2010</td>\n",
       "      <td>20851820</td>\n",
       "    </tr>\n",
       "    <tr>\n",
       "      <th>5</th>\n",
       "      <td>Texas</td>\n",
       "      <td>2011</td>\n",
       "      <td>25145561</td>\n",
       "    </tr>\n",
       "  </tbody>\n",
       "</table>\n",
       "</div>"
      ],
      "text/plain": [
       "      Country  Year  Population\n",
       "0  California  2010    33871648\n",
       "1  California  2011    37253956\n",
       "2    New York  2010    18976457\n",
       "3    New York  2011    19378102\n",
       "4       Texas  2010    20851820\n",
       "5       Texas  2011    25145561"
      ]
     },
     "execution_count": 3,
     "metadata": {},
     "output_type": "execute_result"
    }
   ],
   "source": [
    "df"
   ]
  },
  {
   "cell_type": "markdown",
   "id": "6daefb8a",
   "metadata": {},
   "source": [
    "To create a multi-index DataFrame, we simply pass multiple column names to the `set_index()` function"
   ]
  },
  {
   "cell_type": "code",
   "execution_count": 10,
   "id": "7085a588",
   "metadata": {
    "scrolled": true
   },
   "outputs": [],
   "source": [
    "#setting multiple index for the DataFrame\n",
    "df_2 = df.set_index(['Country','Year'])"
   ]
  },
  {
   "cell_type": "code",
   "execution_count": 11,
   "id": "72e82af1",
   "metadata": {
    "scrolled": true
   },
   "outputs": [
    {
     "data": {
      "text/html": [
       "<div>\n",
       "<style scoped>\n",
       "    .dataframe tbody tr th:only-of-type {\n",
       "        vertical-align: middle;\n",
       "    }\n",
       "\n",
       "    .dataframe tbody tr th {\n",
       "        vertical-align: top;\n",
       "    }\n",
       "\n",
       "    .dataframe thead th {\n",
       "        text-align: right;\n",
       "    }\n",
       "</style>\n",
       "<table border=\"1\" class=\"dataframe\">\n",
       "  <thead>\n",
       "    <tr style=\"text-align: right;\">\n",
       "      <th></th>\n",
       "      <th></th>\n",
       "      <th>Population</th>\n",
       "    </tr>\n",
       "    <tr>\n",
       "      <th>Country</th>\n",
       "      <th>Year</th>\n",
       "      <th></th>\n",
       "    </tr>\n",
       "  </thead>\n",
       "  <tbody>\n",
       "    <tr>\n",
       "      <th rowspan=\"2\" valign=\"top\">California</th>\n",
       "      <th>2010</th>\n",
       "      <td>33871648</td>\n",
       "    </tr>\n",
       "    <tr>\n",
       "      <th>2011</th>\n",
       "      <td>37253956</td>\n",
       "    </tr>\n",
       "    <tr>\n",
       "      <th rowspan=\"2\" valign=\"top\">New York</th>\n",
       "      <th>2010</th>\n",
       "      <td>18976457</td>\n",
       "    </tr>\n",
       "    <tr>\n",
       "      <th>2011</th>\n",
       "      <td>19378102</td>\n",
       "    </tr>\n",
       "    <tr>\n",
       "      <th rowspan=\"2\" valign=\"top\">Texas</th>\n",
       "      <th>2010</th>\n",
       "      <td>20851820</td>\n",
       "    </tr>\n",
       "    <tr>\n",
       "      <th>2011</th>\n",
       "      <td>25145561</td>\n",
       "    </tr>\n",
       "  </tbody>\n",
       "</table>\n",
       "</div>"
      ],
      "text/plain": [
       "                 Population\n",
       "Country    Year            \n",
       "California 2010    33871648\n",
       "           2011    37253956\n",
       "New York   2010    18976457\n",
       "           2011    19378102\n",
       "Texas      2010    20851820\n",
       "           2011    25145561"
      ]
     },
     "execution_count": 11,
     "metadata": {},
     "output_type": "execute_result"
    }
   ],
   "source": [
    "df_2"
   ]
  },
  {
   "cell_type": "markdown",
   "id": "e7a82a5a",
   "metadata": {},
   "source": [
    "Given a `csv` file, we can read the those in `pandas` with the `pd.read_csv()` function and pass in the list of columns, which we want to set as index, in the `index_col` parameter as shown [here](https://stackoverflow.com/questions/19103624/load-csv-to-pandas-multiindex-dataframe)"
   ]
  },
  {
   "cell_type": "markdown",
   "id": "979f4849",
   "metadata": {},
   "source": [
    "### To access individual data from a `MultiIndex` table"
   ]
  },
  {
   "cell_type": "code",
   "execution_count": 12,
   "id": "5004f53a",
   "metadata": {
    "scrolled": true
   },
   "outputs": [
    {
     "data": {
      "text/plain": [
       "Population    20851820\n",
       "Name: (Texas, 2010), dtype: int64"
      ]
     },
     "execution_count": 12,
     "metadata": {},
     "output_type": "execute_result"
    }
   ],
   "source": [
    "#accessing an element from the multiindex table\n",
    "df_2.loc['Texas',2010]"
   ]
  },
  {
   "cell_type": "code",
   "execution_count": 38,
   "id": "35113faa",
   "metadata": {},
   "outputs": [],
   "source": [
    "table = pd.DataFrame({'col1': [1,2,3,4,5,6],\n",
    "                     'col2': [6,7,8,9,10,11]})"
   ]
  },
  {
   "cell_type": "markdown",
   "id": "8231ae80",
   "metadata": {},
   "source": [
    "### Explicitly creating a multi-index table"
   ]
  },
  {
   "cell_type": "code",
   "execution_count": 39,
   "id": "f4f1f9a7",
   "metadata": {},
   "outputs": [],
   "source": [
    "#explicitly creating a multiindex using .from_product()\n",
    "list1 = ['A','B','C']\n",
    "list2 = ['one', 'two']\n",
    "\n",
    "index1 = pd.MultiIndex.from_product([list1,list2])"
   ]
  },
  {
   "cell_type": "code",
   "execution_count": 40,
   "id": "67ff62fb",
   "metadata": {},
   "outputs": [
    {
     "data": {
      "text/plain": [
       "MultiIndex([('A', 'one'),\n",
       "            ('A', 'two'),\n",
       "            ('B', 'one'),\n",
       "            ('B', 'two'),\n",
       "            ('C', 'one'),\n",
       "            ('C', 'two')],\n",
       "           )"
      ]
     },
     "execution_count": 40,
     "metadata": {},
     "output_type": "execute_result"
    }
   ],
   "source": [
    "index1"
   ]
  },
  {
   "cell_type": "code",
   "execution_count": 41,
   "id": "e302dc6b",
   "metadata": {},
   "outputs": [
    {
     "data": {
      "text/html": [
       "<div>\n",
       "<style scoped>\n",
       "    .dataframe tbody tr th:only-of-type {\n",
       "        vertical-align: middle;\n",
       "    }\n",
       "\n",
       "    .dataframe tbody tr th {\n",
       "        vertical-align: top;\n",
       "    }\n",
       "\n",
       "    .dataframe thead th {\n",
       "        text-align: right;\n",
       "    }\n",
       "</style>\n",
       "<table border=\"1\" class=\"dataframe\">\n",
       "  <thead>\n",
       "    <tr style=\"text-align: right;\">\n",
       "      <th></th>\n",
       "      <th></th>\n",
       "      <th>col1</th>\n",
       "      <th>col2</th>\n",
       "    </tr>\n",
       "  </thead>\n",
       "  <tbody>\n",
       "    <tr>\n",
       "      <th rowspan=\"2\" valign=\"top\">A</th>\n",
       "      <th>one</th>\n",
       "      <td>1</td>\n",
       "      <td>6</td>\n",
       "    </tr>\n",
       "    <tr>\n",
       "      <th>two</th>\n",
       "      <td>2</td>\n",
       "      <td>7</td>\n",
       "    </tr>\n",
       "    <tr>\n",
       "      <th rowspan=\"2\" valign=\"top\">B</th>\n",
       "      <th>one</th>\n",
       "      <td>3</td>\n",
       "      <td>8</td>\n",
       "    </tr>\n",
       "    <tr>\n",
       "      <th>two</th>\n",
       "      <td>4</td>\n",
       "      <td>9</td>\n",
       "    </tr>\n",
       "    <tr>\n",
       "      <th rowspan=\"2\" valign=\"top\">C</th>\n",
       "      <th>one</th>\n",
       "      <td>5</td>\n",
       "      <td>10</td>\n",
       "    </tr>\n",
       "    <tr>\n",
       "      <th>two</th>\n",
       "      <td>6</td>\n",
       "      <td>11</td>\n",
       "    </tr>\n",
       "  </tbody>\n",
       "</table>\n",
       "</div>"
      ],
      "text/plain": [
       "       col1  col2\n",
       "A one     1     6\n",
       "  two     2     7\n",
       "B one     3     8\n",
       "  two     4     9\n",
       "C one     5    10\n",
       "  two     6    11"
      ]
     },
     "metadata": {},
     "output_type": "display_data"
    }
   ],
   "source": [
    "table1 = table.set_index(index1)\n",
    "display(table1)"
   ]
  },
  {
   "cell_type": "code",
   "execution_count": 42,
   "id": "bbdd37cc",
   "metadata": {},
   "outputs": [
    {
     "data": {
      "text/plain": [
       "MultiIndex([('A', 'one'),\n",
       "            ('A', 'two'),\n",
       "            ('B', 'one'),\n",
       "            ('B', 'two'),\n",
       "            ('C', 'one'),\n",
       "            ('C', 'two')],\n",
       "           )"
      ]
     },
     "execution_count": 42,
     "metadata": {},
     "output_type": "execute_result"
    }
   ],
   "source": [
    "#explicitly creating a multiindex using from_tuples()\n",
    "tup = [('A','one'),('A','two'),('B','one'),('B','two'),('C','one'),('C','two')]\n",
    "index2 = pd.MultiIndex.from_tuples(tup)\n",
    "index2"
   ]
  },
  {
   "cell_type": "code",
   "execution_count": 44,
   "id": "4195a9b2",
   "metadata": {},
   "outputs": [
    {
     "data": {
      "text/html": [
       "<div>\n",
       "<style scoped>\n",
       "    .dataframe tbody tr th:only-of-type {\n",
       "        vertical-align: middle;\n",
       "    }\n",
       "\n",
       "    .dataframe tbody tr th {\n",
       "        vertical-align: top;\n",
       "    }\n",
       "\n",
       "    .dataframe thead th {\n",
       "        text-align: right;\n",
       "    }\n",
       "</style>\n",
       "<table border=\"1\" class=\"dataframe\">\n",
       "  <thead>\n",
       "    <tr style=\"text-align: right;\">\n",
       "      <th></th>\n",
       "      <th></th>\n",
       "      <th>col1</th>\n",
       "      <th>col2</th>\n",
       "    </tr>\n",
       "  </thead>\n",
       "  <tbody>\n",
       "    <tr>\n",
       "      <th rowspan=\"2\" valign=\"top\">A</th>\n",
       "      <th>one</th>\n",
       "      <td>1</td>\n",
       "      <td>6</td>\n",
       "    </tr>\n",
       "    <tr>\n",
       "      <th>two</th>\n",
       "      <td>2</td>\n",
       "      <td>7</td>\n",
       "    </tr>\n",
       "    <tr>\n",
       "      <th rowspan=\"2\" valign=\"top\">B</th>\n",
       "      <th>one</th>\n",
       "      <td>3</td>\n",
       "      <td>8</td>\n",
       "    </tr>\n",
       "    <tr>\n",
       "      <th>two</th>\n",
       "      <td>4</td>\n",
       "      <td>9</td>\n",
       "    </tr>\n",
       "    <tr>\n",
       "      <th rowspan=\"2\" valign=\"top\">C</th>\n",
       "      <th>one</th>\n",
       "      <td>5</td>\n",
       "      <td>10</td>\n",
       "    </tr>\n",
       "    <tr>\n",
       "      <th>two</th>\n",
       "      <td>6</td>\n",
       "      <td>11</td>\n",
       "    </tr>\n",
       "  </tbody>\n",
       "</table>\n",
       "</div>"
      ],
      "text/plain": [
       "       col1  col2\n",
       "A one     1     6\n",
       "  two     2     7\n",
       "B one     3     8\n",
       "  two     4     9\n",
       "C one     5    10\n",
       "  two     6    11"
      ]
     },
     "execution_count": 44,
     "metadata": {},
     "output_type": "execute_result"
    }
   ],
   "source": [
    "table2 = table.set_index(index2)\n",
    "table2"
   ]
  },
  {
   "cell_type": "code",
   "execution_count": 47,
   "id": "2aaee811",
   "metadata": {},
   "outputs": [],
   "source": [
    "#explicitly creating a multiindex using from_array()\n",
    "\n",
    "array1 = np.array(['A','A','B','B','C','C'])\n",
    "array2 = np.array(['one','two','one','two','one','two'])\n",
    "array = [array1, array2]"
   ]
  },
  {
   "cell_type": "code",
   "execution_count": 49,
   "id": "d71aa4ed",
   "metadata": {},
   "outputs": [
    {
     "data": {
      "text/plain": [
       "MultiIndex([('A', 'one'),\n",
       "            ('A', 'two'),\n",
       "            ('B', 'one'),\n",
       "            ('B', 'two'),\n",
       "            ('C', 'one'),\n",
       "            ('C', 'two')],\n",
       "           )"
      ]
     },
     "execution_count": 49,
     "metadata": {},
     "output_type": "execute_result"
    }
   ],
   "source": [
    "index3 = pd.MultiIndex.from_arrays(array)\n",
    "index3"
   ]
  },
  {
   "cell_type": "code",
   "execution_count": 50,
   "id": "76d6515b",
   "metadata": {},
   "outputs": [
    {
     "data": {
      "text/html": [
       "<div>\n",
       "<style scoped>\n",
       "    .dataframe tbody tr th:only-of-type {\n",
       "        vertical-align: middle;\n",
       "    }\n",
       "\n",
       "    .dataframe tbody tr th {\n",
       "        vertical-align: top;\n",
       "    }\n",
       "\n",
       "    .dataframe thead th {\n",
       "        text-align: right;\n",
       "    }\n",
       "</style>\n",
       "<table border=\"1\" class=\"dataframe\">\n",
       "  <thead>\n",
       "    <tr style=\"text-align: right;\">\n",
       "      <th></th>\n",
       "      <th></th>\n",
       "      <th>col1</th>\n",
       "      <th>col2</th>\n",
       "    </tr>\n",
       "  </thead>\n",
       "  <tbody>\n",
       "    <tr>\n",
       "      <th rowspan=\"2\" valign=\"top\">A</th>\n",
       "      <th>one</th>\n",
       "      <td>1</td>\n",
       "      <td>6</td>\n",
       "    </tr>\n",
       "    <tr>\n",
       "      <th>two</th>\n",
       "      <td>2</td>\n",
       "      <td>7</td>\n",
       "    </tr>\n",
       "    <tr>\n",
       "      <th rowspan=\"2\" valign=\"top\">B</th>\n",
       "      <th>one</th>\n",
       "      <td>3</td>\n",
       "      <td>8</td>\n",
       "    </tr>\n",
       "    <tr>\n",
       "      <th>two</th>\n",
       "      <td>4</td>\n",
       "      <td>9</td>\n",
       "    </tr>\n",
       "    <tr>\n",
       "      <th rowspan=\"2\" valign=\"top\">C</th>\n",
       "      <th>one</th>\n",
       "      <td>5</td>\n",
       "      <td>10</td>\n",
       "    </tr>\n",
       "    <tr>\n",
       "      <th>two</th>\n",
       "      <td>6</td>\n",
       "      <td>11</td>\n",
       "    </tr>\n",
       "  </tbody>\n",
       "</table>\n",
       "</div>"
      ],
      "text/plain": [
       "       col1  col2\n",
       "A one     1     6\n",
       "  two     2     7\n",
       "B one     3     8\n",
       "  two     4     9\n",
       "C one     5    10\n",
       "  two     6    11"
      ]
     },
     "execution_count": 50,
     "metadata": {},
     "output_type": "execute_result"
    }
   ],
   "source": [
    "table3 = table.set_index(index3)\n",
    "table3"
   ]
  },
  {
   "cell_type": "code",
   "execution_count": null,
   "id": "7877a40d",
   "metadata": {},
   "outputs": [],
   "source": []
  }
 ],
 "metadata": {
  "kernelspec": {
   "display_name": "Python 3",
   "language": "python",
   "name": "python3"
  },
  "language_info": {
   "codemirror_mode": {
    "name": "ipython",
    "version": 3
   },
   "file_extension": ".py",
   "mimetype": "text/x-python",
   "name": "python",
   "nbconvert_exporter": "python",
   "pygments_lexer": "ipython3",
   "version": "3.8.8"
  }
 },
 "nbformat": 4,
 "nbformat_minor": 5
}
