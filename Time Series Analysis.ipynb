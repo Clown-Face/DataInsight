{
 "cells": [
  {
   "cell_type": "markdown",
   "id": "54a23fa8",
   "metadata": {},
   "source": [
    "### Naming the files"
   ]
  },
  {
   "cell_type": "code",
   "execution_count": 1,
   "id": "2f59a760",
   "metadata": {},
   "outputs": [],
   "source": [
    "file_2d = ['RTRA_Employ_2NAICS_00_05.csv','RTRA_Employ_2NAICS_06_10.csv','RTRA_Employ_2NAICS_11_15.csv','RTRA_Employ_2NAICS_16_20.csv','RTRA_Employ_2NAICS_97_99.csv']\n",
    "file_3d = ['RTRA_Employ_3NAICS_00_05.csv','RTRA_Employ_3NAICS_06_10.csv','RTRA_Employ_3NAICS_11_15.csv','RTRA_Employ_3NAICS_16_20.csv','RTRA_Employ_3NAICS_97_99.csv']\n",
    "file_4d = ['RTRA_Employ_4NAICS_00_05.csv','RTRA_Employ_4NAICS_06_10.csv','RTRA_Employ_4NAICS_11_15.csv','RTRA_Employ_4NAICS_16_20.csv','RTRA_Employ_4NAICS_97_99.csv']\n",
    "file_path = 'A_NEWLY_HIRED_DATA_ANALYST/'"
   ]
  },
  {
   "cell_type": "markdown",
   "id": "35a858ae",
   "metadata": {},
   "source": [
    "### Importing necessary libraries"
   ]
  },
  {
   "cell_type": "code",
   "execution_count": 2,
   "id": "7932501d",
   "metadata": {},
   "outputs": [],
   "source": [
    "import pandas as pd\n",
    "import matplotlib.pyplot as plt\n",
    "import seaborn as sns"
   ]
  },
  {
   "cell_type": "code",
   "execution_count": 3,
   "id": "09dbce78",
   "metadata": {},
   "outputs": [],
   "source": [
    "r_2 = pd.DataFrame()\n",
    "r_3 = pd.DataFrame()\n",
    "r_4 = pd.DataFrame()"
   ]
  },
  {
   "cell_type": "markdown",
   "id": "b1fd1d01",
   "metadata": {},
   "source": [
    "### Reading and combining the files "
   ]
  },
  {
   "cell_type": "code",
   "execution_count": 4,
   "id": "5a22a95f",
   "metadata": {},
   "outputs": [],
   "source": [
    "for item in file_2d:\n",
    "    df = pd.read_csv(file_path+item)\n",
    "    r_2 = pd.concat([r_2,df], ignore_index=True)"
   ]
  },
  {
   "cell_type": "code",
   "execution_count": 5,
   "id": "675e584b",
   "metadata": {},
   "outputs": [
    {
     "data": {
      "text/html": [
       "<div>\n",
       "<style scoped>\n",
       "    .dataframe tbody tr th:only-of-type {\n",
       "        vertical-align: middle;\n",
       "    }\n",
       "\n",
       "    .dataframe tbody tr th {\n",
       "        vertical-align: top;\n",
       "    }\n",
       "\n",
       "    .dataframe thead th {\n",
       "        text-align: right;\n",
       "    }\n",
       "</style>\n",
       "<table border=\"1\" class=\"dataframe\">\n",
       "  <thead>\n",
       "    <tr style=\"text-align: right;\">\n",
       "      <th></th>\n",
       "      <th>SYEAR</th>\n",
       "      <th>SMTH</th>\n",
       "      <th>NAICS</th>\n",
       "      <th>_EMPLOYMENT_</th>\n",
       "    </tr>\n",
       "  </thead>\n",
       "  <tbody>\n",
       "    <tr>\n",
       "      <th>0</th>\n",
       "      <td>2000</td>\n",
       "      <td>1</td>\n",
       "      <td>Accommodation and food services [72]</td>\n",
       "      <td>148000</td>\n",
       "    </tr>\n",
       "    <tr>\n",
       "      <th>1</th>\n",
       "      <td>2000</td>\n",
       "      <td>1</td>\n",
       "      <td>Administrative and support, waste management a...</td>\n",
       "      <td>59250</td>\n",
       "    </tr>\n",
       "    <tr>\n",
       "      <th>2</th>\n",
       "      <td>2000</td>\n",
       "      <td>1</td>\n",
       "      <td>Agriculture, forestry, fishing and hunting [11]</td>\n",
       "      <td>61750</td>\n",
       "    </tr>\n",
       "    <tr>\n",
       "      <th>3</th>\n",
       "      <td>2000</td>\n",
       "      <td>1</td>\n",
       "      <td>Arts, entertainment and recreation [71]</td>\n",
       "      <td>39500</td>\n",
       "    </tr>\n",
       "    <tr>\n",
       "      <th>4</th>\n",
       "      <td>2000</td>\n",
       "      <td>1</td>\n",
       "      <td>Construction [23]</td>\n",
       "      <td>106250</td>\n",
       "    </tr>\n",
       "  </tbody>\n",
       "</table>\n",
       "</div>"
      ],
      "text/plain": [
       "   SYEAR  SMTH                                              NAICS  \\\n",
       "0   2000     1               Accommodation and food services [72]   \n",
       "1   2000     1  Administrative and support, waste management a...   \n",
       "2   2000     1    Agriculture, forestry, fishing and hunting [11]   \n",
       "3   2000     1            Arts, entertainment and recreation [71]   \n",
       "4   2000     1                                  Construction [23]   \n",
       "\n",
       "   _EMPLOYMENT_  \n",
       "0        148000  \n",
       "1         59250  \n",
       "2         61750  \n",
       "3         39500  \n",
       "4        106250  "
      ]
     },
     "execution_count": 5,
     "metadata": {},
     "output_type": "execute_result"
    }
   ],
   "source": [
    "r_2.head()"
   ]
  },
  {
   "cell_type": "code",
   "execution_count": 6,
   "id": "1fa667c7",
   "metadata": {},
   "outputs": [],
   "source": [
    "for item in file_3d:\n",
    "    df = pd.read_csv(file_path+item)\n",
    "    r_3 = pd.concat([r_3, df], ignore_index=True)\n",
    "for item in file_4d:\n",
    "    df = pd.read_csv(file_path+item)\n",
    "    r_4 = pd.concat([r_4, df], ignore_index=True)"
   ]
  },
  {
   "cell_type": "code",
   "execution_count": 7,
   "id": "4f42bd80",
   "metadata": {},
   "outputs": [
    {
     "name": "stdout",
     "output_type": "stream",
     "text": [
      "<class 'pandas.core.frame.DataFrame'>\n",
      "RangeIndex: 5472 entries, 0 to 5471\n",
      "Data columns (total 4 columns):\n",
      " #   Column        Non-Null Count  Dtype \n",
      "---  ------        --------------  ----- \n",
      " 0   SYEAR         5472 non-null   int64 \n",
      " 1   SMTH          5472 non-null   int64 \n",
      " 2   NAICS         5472 non-null   object\n",
      " 3   _EMPLOYMENT_  5472 non-null   int64 \n",
      "dtypes: int64(3), object(1)\n",
      "memory usage: 171.1+ KB\n"
     ]
    }
   ],
   "source": [
    "r_2.info()"
   ]
  },
  {
   "cell_type": "code",
   "execution_count": 8,
   "id": "55f7b290",
   "metadata": {},
   "outputs": [
    {
     "name": "stdout",
     "output_type": "stream",
     "text": [
      "<class 'pandas.core.frame.DataFrame'>\n",
      "RangeIndex: 28140 entries, 0 to 28139\n",
      "Data columns (total 4 columns):\n",
      " #   Column        Non-Null Count  Dtype \n",
      "---  ------        --------------  ----- \n",
      " 0   SYEAR         28140 non-null  int64 \n",
      " 1   SMTH          28140 non-null  int64 \n",
      " 2   NAICS         28140 non-null  object\n",
      " 3   _EMPLOYMENT_  28140 non-null  int64 \n",
      "dtypes: int64(3), object(1)\n",
      "memory usage: 879.5+ KB\n"
     ]
    }
   ],
   "source": [
    "r_3.info()"
   ]
  },
  {
   "cell_type": "code",
   "execution_count": 9,
   "id": "49b47447",
   "metadata": {},
   "outputs": [
    {
     "name": "stdout",
     "output_type": "stream",
     "text": [
      "<class 'pandas.core.frame.DataFrame'>\n",
      "RangeIndex: 85572 entries, 0 to 85571\n",
      "Data columns (total 4 columns):\n",
      " #   Column        Non-Null Count  Dtype\n",
      "---  ------        --------------  -----\n",
      " 0   SYEAR         85572 non-null  int64\n",
      " 1   SMTH          85572 non-null  int64\n",
      " 2   NAICS         85572 non-null  int64\n",
      " 3   _EMPLOYMENT_  85572 non-null  int64\n",
      "dtypes: int64(4)\n",
      "memory usage: 2.6 MB\n"
     ]
    }
   ],
   "source": [
    "r_4.info()"
   ]
  },
  {
   "cell_type": "code",
   "execution_count": 10,
   "id": "67bb6263",
   "metadata": {},
   "outputs": [
    {
     "data": {
      "text/html": [
       "<div>\n",
       "<style scoped>\n",
       "    .dataframe tbody tr th:only-of-type {\n",
       "        vertical-align: middle;\n",
       "    }\n",
       "\n",
       "    .dataframe tbody tr th {\n",
       "        vertical-align: top;\n",
       "    }\n",
       "\n",
       "    .dataframe thead th {\n",
       "        text-align: right;\n",
       "    }\n",
       "</style>\n",
       "<table border=\"1\" class=\"dataframe\">\n",
       "  <thead>\n",
       "    <tr style=\"text-align: right;\">\n",
       "      <th></th>\n",
       "      <th>SYEAR</th>\n",
       "      <th>SMTH</th>\n",
       "      <th>NAICS</th>\n",
       "      <th>_EMPLOYMENT_</th>\n",
       "    </tr>\n",
       "  </thead>\n",
       "  <tbody>\n",
       "    <tr>\n",
       "      <th>0</th>\n",
       "      <td>2000</td>\n",
       "      <td>1</td>\n",
       "      <td>1100</td>\n",
       "      <td>500</td>\n",
       "    </tr>\n",
       "    <tr>\n",
       "      <th>1</th>\n",
       "      <td>2000</td>\n",
       "      <td>1</td>\n",
       "      <td>1111</td>\n",
       "      <td>0</td>\n",
       "    </tr>\n",
       "    <tr>\n",
       "      <th>2</th>\n",
       "      <td>2000</td>\n",
       "      <td>1</td>\n",
       "      <td>1112</td>\n",
       "      <td>2000</td>\n",
       "    </tr>\n",
       "    <tr>\n",
       "      <th>3</th>\n",
       "      <td>2000</td>\n",
       "      <td>1</td>\n",
       "      <td>1113</td>\n",
       "      <td>250</td>\n",
       "    </tr>\n",
       "    <tr>\n",
       "      <th>4</th>\n",
       "      <td>2000</td>\n",
       "      <td>1</td>\n",
       "      <td>1114</td>\n",
       "      <td>7750</td>\n",
       "    </tr>\n",
       "  </tbody>\n",
       "</table>\n",
       "</div>"
      ],
      "text/plain": [
       "   SYEAR  SMTH  NAICS  _EMPLOYMENT_\n",
       "0   2000     1   1100           500\n",
       "1   2000     1   1111             0\n",
       "2   2000     1   1112          2000\n",
       "3   2000     1   1113           250\n",
       "4   2000     1   1114          7750"
      ]
     },
     "execution_count": 10,
     "metadata": {},
     "output_type": "execute_result"
    }
   ],
   "source": [
    "r_4.head()"
   ]
  },
  {
   "cell_type": "markdown",
   "id": "31c3ee1e",
   "metadata": {},
   "source": [
    "### Extracting the code from the name"
   ]
  },
  {
   "cell_type": "code",
   "execution_count": 11,
   "id": "ffde2bc1",
   "metadata": {},
   "outputs": [],
   "source": [
    "import re\n",
    "def stol(df):\n",
    "    df['code'] = df.NAICS.str.extract(r'\\[(.+)\\]', expand=False)\n",
    "    df['code'] = df.code.str.replace('-', ',').astype('str')\n",
    "    df['code'] = df.code.str.split(',')\n",
    "    return df"
   ]
  },
  {
   "cell_type": "code",
   "execution_count": 12,
   "id": "f8e73551",
   "metadata": {},
   "outputs": [],
   "source": [
    "r_2 = stol(r_2)\n",
    "r_3 = stol(r_3)"
   ]
  },
  {
   "cell_type": "code",
   "execution_count": 13,
   "id": "aa228cd0",
   "metadata": {},
   "outputs": [
    {
     "data": {
      "text/html": [
       "<div>\n",
       "<style scoped>\n",
       "    .dataframe tbody tr th:only-of-type {\n",
       "        vertical-align: middle;\n",
       "    }\n",
       "\n",
       "    .dataframe tbody tr th {\n",
       "        vertical-align: top;\n",
       "    }\n",
       "\n",
       "    .dataframe thead th {\n",
       "        text-align: right;\n",
       "    }\n",
       "</style>\n",
       "<table border=\"1\" class=\"dataframe\">\n",
       "  <thead>\n",
       "    <tr style=\"text-align: right;\">\n",
       "      <th></th>\n",
       "      <th>SYEAR</th>\n",
       "      <th>SMTH</th>\n",
       "      <th>NAICS</th>\n",
       "      <th>_EMPLOYMENT_</th>\n",
       "      <th>code</th>\n",
       "    </tr>\n",
       "  </thead>\n",
       "  <tbody>\n",
       "    <tr>\n",
       "      <th>0</th>\n",
       "      <td>2000</td>\n",
       "      <td>1</td>\n",
       "      <td>Accommodation and food services [72]</td>\n",
       "      <td>148000</td>\n",
       "      <td>[72]</td>\n",
       "    </tr>\n",
       "    <tr>\n",
       "      <th>1</th>\n",
       "      <td>2000</td>\n",
       "      <td>1</td>\n",
       "      <td>Administrative and support, waste management a...</td>\n",
       "      <td>59250</td>\n",
       "      <td>[56]</td>\n",
       "    </tr>\n",
       "    <tr>\n",
       "      <th>2</th>\n",
       "      <td>2000</td>\n",
       "      <td>1</td>\n",
       "      <td>Agriculture, forestry, fishing and hunting [11]</td>\n",
       "      <td>61750</td>\n",
       "      <td>[11]</td>\n",
       "    </tr>\n",
       "    <tr>\n",
       "      <th>3</th>\n",
       "      <td>2000</td>\n",
       "      <td>1</td>\n",
       "      <td>Arts, entertainment and recreation [71]</td>\n",
       "      <td>39500</td>\n",
       "      <td>[71]</td>\n",
       "    </tr>\n",
       "    <tr>\n",
       "      <th>4</th>\n",
       "      <td>2000</td>\n",
       "      <td>1</td>\n",
       "      <td>Construction [23]</td>\n",
       "      <td>106250</td>\n",
       "      <td>[23]</td>\n",
       "    </tr>\n",
       "  </tbody>\n",
       "</table>\n",
       "</div>"
      ],
      "text/plain": [
       "   SYEAR  SMTH                                              NAICS  \\\n",
       "0   2000     1               Accommodation and food services [72]   \n",
       "1   2000     1  Administrative and support, waste management a...   \n",
       "2   2000     1    Agriculture, forestry, fishing and hunting [11]   \n",
       "3   2000     1            Arts, entertainment and recreation [71]   \n",
       "4   2000     1                                  Construction [23]   \n",
       "\n",
       "   _EMPLOYMENT_  code  \n",
       "0        148000  [72]  \n",
       "1         59250  [56]  \n",
       "2         61750  [11]  \n",
       "3         39500  [71]  \n",
       "4        106250  [23]  "
      ]
     },
     "execution_count": 13,
     "metadata": {},
     "output_type": "execute_result"
    }
   ],
   "source": [
    "r_2.head()"
   ]
  },
  {
   "cell_type": "code",
   "execution_count": 14,
   "id": "0b05be63",
   "metadata": {
    "scrolled": true
   },
   "outputs": [
    {
     "data": {
      "text/plain": [
       "0"
      ]
     },
     "execution_count": 14,
     "metadata": {},
     "output_type": "execute_result"
    }
   ],
   "source": [
    "r_2.code.isna().sum()"
   ]
  },
  {
   "cell_type": "code",
   "execution_count": 15,
   "id": "963a6f57",
   "metadata": {},
   "outputs": [
    {
     "data": {
      "text/plain": [
       "0"
      ]
     },
     "execution_count": 15,
     "metadata": {},
     "output_type": "execute_result"
    }
   ],
   "source": [
    "r_3.code.isna().sum()"
   ]
  },
  {
   "cell_type": "markdown",
   "id": "f8bd69e9",
   "metadata": {},
   "source": [
    "### Loading excel file with name and code of the industry"
   ]
  },
  {
   "cell_type": "code",
   "execution_count": 16,
   "id": "45f8ccc7",
   "metadata": {},
   "outputs": [
    {
     "data": {
      "text/html": [
       "<div>\n",
       "<style scoped>\n",
       "    .dataframe tbody tr th:only-of-type {\n",
       "        vertical-align: middle;\n",
       "    }\n",
       "\n",
       "    .dataframe tbody tr th {\n",
       "        vertical-align: top;\n",
       "    }\n",
       "\n",
       "    .dataframe thead th {\n",
       "        text-align: right;\n",
       "    }\n",
       "</style>\n",
       "<table border=\"1\" class=\"dataframe\">\n",
       "  <thead>\n",
       "    <tr style=\"text-align: right;\">\n",
       "      <th></th>\n",
       "      <th>LMO_Detailed_Industry</th>\n",
       "      <th>NAICS</th>\n",
       "    </tr>\n",
       "  </thead>\n",
       "  <tbody>\n",
       "    <tr>\n",
       "      <th>0</th>\n",
       "      <td>Farms</td>\n",
       "      <td>111 , 112</td>\n",
       "    </tr>\n",
       "    <tr>\n",
       "      <th>1</th>\n",
       "      <td>Fishing, hunting and trapping</td>\n",
       "      <td>114</td>\n",
       "    </tr>\n",
       "    <tr>\n",
       "      <th>2</th>\n",
       "      <td>Forestry and logging</td>\n",
       "      <td>113</td>\n",
       "    </tr>\n",
       "    <tr>\n",
       "      <th>3</th>\n",
       "      <td>Support activities for agriculture and forestry</td>\n",
       "      <td>115</td>\n",
       "    </tr>\n",
       "    <tr>\n",
       "      <th>4</th>\n",
       "      <td>Oil and gas extraction</td>\n",
       "      <td>211</td>\n",
       "    </tr>\n",
       "  </tbody>\n",
       "</table>\n",
       "</div>"
      ],
      "text/plain": [
       "                             LMO_Detailed_Industry      NAICS\n",
       "0                                            Farms  111 , 112\n",
       "1                    Fishing, hunting and trapping        114\n",
       "2                             Forestry and logging        113\n",
       "3  Support activities for agriculture and forestry        115\n",
       "4                           Oil and gas extraction        211"
      ]
     },
     "execution_count": 16,
     "metadata": {},
     "output_type": "execute_result"
    }
   ],
   "source": [
    "lookup = pd.read_excel(file_path+'LMO_Detailed_Industries_by_NAICS.xlsx')\n",
    "lookup['NAICS'] = lookup['NAICS'].replace(regex='&', value=',').astype('str')\n",
    "lookup.head()"
   ]
  },
  {
   "cell_type": "markdown",
   "id": "453e1e40",
   "metadata": {},
   "source": [
    "### Creating a dictionary for mapping the code with the industry name"
   ]
  },
  {
   "cell_type": "code",
   "execution_count": 17,
   "id": "f7f907fb",
   "metadata": {},
   "outputs": [],
   "source": [
    "industry_dict = {\n",
    "    'two_digit' : {}, \n",
    "    'three_digit' : {}, \n",
    "    'four_digit' : {}\n",
    "}\n",
    "code = []\n",
    "for name, numbers in zip(lookup['LMO_Detailed_Industry'], lookup['NAICS']):\n",
    "    num_list = numbers.split(',')\n",
    "    num_list = [x.strip() for x in num_list]\n",
    "    code.append(num_list)\n",
    "    for i in range(len(num_list)):\n",
    "        if len(num_list[i]) == 2:\n",
    "            industry_dict['two_digit'][num_list[i]] = name\n",
    "        elif len(num_list[i]) == 3:\n",
    "            industry_dict['three_digit'][num_list[i]] = name \n",
    "        elif len(num_list[i]) == 4:\n",
    "            industry_dict['four_digit'][num_list[i]] = name\n",
    "lookup['code'] = code"
   ]
  },
  {
   "cell_type": "code",
   "execution_count": 18,
   "id": "42ba08f9",
   "metadata": {},
   "outputs": [],
   "source": [
    "#industry_dict"
   ]
  },
  {
   "cell_type": "code",
   "execution_count": 19,
   "id": "8beaabf0",
   "metadata": {},
   "outputs": [
    {
     "data": {
      "text/html": [
       "<div>\n",
       "<style scoped>\n",
       "    .dataframe tbody tr th:only-of-type {\n",
       "        vertical-align: middle;\n",
       "    }\n",
       "\n",
       "    .dataframe tbody tr th {\n",
       "        vertical-align: top;\n",
       "    }\n",
       "\n",
       "    .dataframe thead th {\n",
       "        text-align: right;\n",
       "    }\n",
       "</style>\n",
       "<table border=\"1\" class=\"dataframe\">\n",
       "  <thead>\n",
       "    <tr style=\"text-align: right;\">\n",
       "      <th></th>\n",
       "      <th>LMO_Detailed_Industry</th>\n",
       "      <th>NAICS</th>\n",
       "      <th>code</th>\n",
       "    </tr>\n",
       "  </thead>\n",
       "  <tbody>\n",
       "    <tr>\n",
       "      <th>0</th>\n",
       "      <td>Farms</td>\n",
       "      <td>111 , 112</td>\n",
       "      <td>[111, 112]</td>\n",
       "    </tr>\n",
       "    <tr>\n",
       "      <th>1</th>\n",
       "      <td>Fishing, hunting and trapping</td>\n",
       "      <td>114</td>\n",
       "      <td>[114]</td>\n",
       "    </tr>\n",
       "    <tr>\n",
       "      <th>2</th>\n",
       "      <td>Forestry and logging</td>\n",
       "      <td>113</td>\n",
       "      <td>[113]</td>\n",
       "    </tr>\n",
       "    <tr>\n",
       "      <th>3</th>\n",
       "      <td>Support activities for agriculture and forestry</td>\n",
       "      <td>115</td>\n",
       "      <td>[115]</td>\n",
       "    </tr>\n",
       "    <tr>\n",
       "      <th>4</th>\n",
       "      <td>Oil and gas extraction</td>\n",
       "      <td>211</td>\n",
       "      <td>[211]</td>\n",
       "    </tr>\n",
       "  </tbody>\n",
       "</table>\n",
       "</div>"
      ],
      "text/plain": [
       "                             LMO_Detailed_Industry      NAICS        code\n",
       "0                                            Farms  111 , 112  [111, 112]\n",
       "1                    Fishing, hunting and trapping        114       [114]\n",
       "2                             Forestry and logging        113       [113]\n",
       "3  Support activities for agriculture and forestry        115       [115]\n",
       "4                           Oil and gas extraction        211       [211]"
      ]
     },
     "execution_count": 19,
     "metadata": {},
     "output_type": "execute_result"
    }
   ],
   "source": [
    "lookup.head()"
   ]
  },
  {
   "cell_type": "code",
   "execution_count": 20,
   "id": "e817d462",
   "metadata": {},
   "outputs": [],
   "source": [
    "r_4['code'] = r_4.NAICS.astype('str')"
   ]
  },
  {
   "cell_type": "markdown",
   "id": "6f2ef9e2",
   "metadata": {},
   "source": [
    "### Extracting required rows from the industry tables"
   ]
  },
  {
   "cell_type": "code",
   "execution_count": 21,
   "id": "5b61e507",
   "metadata": {},
   "outputs": [],
   "source": [
    "def check(v, df1, df2):\n",
    "    i = 0\n",
    "    for row in df1.itertuples():\n",
    "        if v in row.code:\n",
    "            df2 = pd.concat([df2, df1.loc[i]], axis =1)\n",
    "        i += 1\n",
    "    return df2"
   ]
  },
  {
   "cell_type": "code",
   "execution_count": 22,
   "id": "c82c1cc6",
   "metadata": {},
   "outputs": [],
   "source": [
    "df_r2 = pd.DataFrame()\n",
    "df_r3 = pd.DataFrame()\n",
    "df_r4 = pd.DataFrame()\n",
    "for lst in lookup['code']:\n",
    "    for item in lst:\n",
    "        if len(item) == 2:\n",
    "            df_r2 = check(item, r_2, df_r2)\n",
    "        elif len(item) == 3:\n",
    "            df_r3 = check(item, r_3, df_r3)\n",
    "        elif len(item) ==4:\n",
    "            df_r4 = check(item, r_4, df_r4)\n",
    "df_r2 = df_r2.transpose()\n",
    "df_r3 = df_r3.transpose()\n",
    "df_r4 = df_r4.transpose()"
   ]
  },
  {
   "cell_type": "code",
   "execution_count": 23,
   "id": "cb693179",
   "metadata": {},
   "outputs": [],
   "source": [
    "r2_c = df_r2.copy()\n",
    "r3_c = df_r3.copy()\n",
    "r4_c = df_r4.copy()"
   ]
  },
  {
   "cell_type": "markdown",
   "id": "cea3b79a",
   "metadata": {},
   "source": [
    "### Mapping the NAICS code to the industry name"
   ]
  },
  {
   "cell_type": "code",
   "execution_count": 24,
   "id": "13802d89",
   "metadata": {},
   "outputs": [],
   "source": [
    "def input_name(df):\n",
    "    df['code'] = df['code'].map(lambda x:x[0])\n",
    "    x = df['code'].iloc[-1]\n",
    "    if len(x) == 2:\n",
    "        df['name'] = df['code'].map(industry_dict['two_digit'])\n",
    "    elif len(x) == 3:\n",
    "        df['name'] = df['code'].map(industry_dict['three_digit'])\n",
    "    return df"
   ]
  },
  {
   "cell_type": "code",
   "execution_count": 25,
   "id": "e6b8d70a",
   "metadata": {},
   "outputs": [],
   "source": [
    "r2_c = input_name(r2_c)\n",
    "r3_c = input_name(r3_c)"
   ]
  },
  {
   "cell_type": "code",
   "execution_count": 26,
   "id": "6a2a7b43",
   "metadata": {},
   "outputs": [],
   "source": [
    "r4_c['name'] = r4_c['code'].map(industry_dict['four_digit'])"
   ]
  },
  {
   "cell_type": "code",
   "execution_count": 27,
   "id": "ecc5e566",
   "metadata": {},
   "outputs": [
    {
     "data": {
      "text/html": [
       "<div>\n",
       "<style scoped>\n",
       "    .dataframe tbody tr th:only-of-type {\n",
       "        vertical-align: middle;\n",
       "    }\n",
       "\n",
       "    .dataframe tbody tr th {\n",
       "        vertical-align: top;\n",
       "    }\n",
       "\n",
       "    .dataframe thead th {\n",
       "        text-align: right;\n",
       "    }\n",
       "</style>\n",
       "<table border=\"1\" class=\"dataframe\">\n",
       "  <thead>\n",
       "    <tr style=\"text-align: right;\">\n",
       "      <th></th>\n",
       "      <th>SYEAR</th>\n",
       "      <th>SMTH</th>\n",
       "      <th>NAICS</th>\n",
       "      <th>_EMPLOYMENT_</th>\n",
       "      <th>code</th>\n",
       "      <th>name</th>\n",
       "    </tr>\n",
       "  </thead>\n",
       "  <tbody>\n",
       "    <tr>\n",
       "      <th>118</th>\n",
       "      <td>2000</td>\n",
       "      <td>1</td>\n",
       "      <td>3366</td>\n",
       "      <td>5500</td>\n",
       "      <td>3366</td>\n",
       "      <td>Ship and boat building</td>\n",
       "    </tr>\n",
       "    <tr>\n",
       "      <th>430</th>\n",
       "      <td>2000</td>\n",
       "      <td>2</td>\n",
       "      <td>3366</td>\n",
       "      <td>5000</td>\n",
       "      <td>3366</td>\n",
       "      <td>Ship and boat building</td>\n",
       "    </tr>\n",
       "    <tr>\n",
       "      <th>742</th>\n",
       "      <td>2000</td>\n",
       "      <td>3</td>\n",
       "      <td>3366</td>\n",
       "      <td>6250</td>\n",
       "      <td>3366</td>\n",
       "      <td>Ship and boat building</td>\n",
       "    </tr>\n",
       "    <tr>\n",
       "      <th>1054</th>\n",
       "      <td>2000</td>\n",
       "      <td>4</td>\n",
       "      <td>3366</td>\n",
       "      <td>7750</td>\n",
       "      <td>3366</td>\n",
       "      <td>Ship and boat building</td>\n",
       "    </tr>\n",
       "    <tr>\n",
       "      <th>1366</th>\n",
       "      <td>2000</td>\n",
       "      <td>5</td>\n",
       "      <td>3366</td>\n",
       "      <td>7750</td>\n",
       "      <td>3366</td>\n",
       "      <td>Ship and boat building</td>\n",
       "    </tr>\n",
       "  </tbody>\n",
       "</table>\n",
       "</div>"
      ],
      "text/plain": [
       "     SYEAR SMTH NAICS _EMPLOYMENT_  code                    name\n",
       "118   2000    1  3366         5500  3366  Ship and boat building\n",
       "430   2000    2  3366         5000  3366  Ship and boat building\n",
       "742   2000    3  3366         6250  3366  Ship and boat building\n",
       "1054  2000    4  3366         7750  3366  Ship and boat building\n",
       "1366  2000    5  3366         7750  3366  Ship and boat building"
      ]
     },
     "execution_count": 27,
     "metadata": {},
     "output_type": "execute_result"
    }
   ],
   "source": [
    "r4_c.head()"
   ]
  },
  {
   "cell_type": "markdown",
   "id": "93f59625",
   "metadata": {},
   "source": [
    "### Correcting the year and month column"
   ]
  },
  {
   "cell_type": "code",
   "execution_count": null,
   "id": "67ec4c7d",
   "metadata": {},
   "outputs": [],
   "source": [
    "def date(df):\n",
    "    df['date'] = pd.to_datetime(df['SYEAR'].astype('str')+df['SMTH'].astype('str'), format='%Y%m')\n",
    "    df.drop(columns = ['SYEAR','SMTH', 'NAICS'], inplace = True)\n",
    "    return df"
   ]
  },
  {
   "cell_type": "code",
   "execution_count": 29,
   "id": "2dd53826",
   "metadata": {},
   "outputs": [],
   "source": [
    "r2_c = date(r2_c)\n",
    "r3_c = date(r3_c)\n",
    "r4_c = date(r4_c)"
   ]
  },
  {
   "cell_type": "code",
   "execution_count": 30,
   "id": "4d5d4752",
   "metadata": {},
   "outputs": [
    {
     "data": {
      "text/html": [
       "<div>\n",
       "<style scoped>\n",
       "    .dataframe tbody tr th:only-of-type {\n",
       "        vertical-align: middle;\n",
       "    }\n",
       "\n",
       "    .dataframe tbody tr th {\n",
       "        vertical-align: top;\n",
       "    }\n",
       "\n",
       "    .dataframe thead th {\n",
       "        text-align: right;\n",
       "    }\n",
       "</style>\n",
       "<table border=\"1\" class=\"dataframe\">\n",
       "  <thead>\n",
       "    <tr style=\"text-align: right;\">\n",
       "      <th></th>\n",
       "      <th>_EMPLOYMENT_</th>\n",
       "      <th>code</th>\n",
       "      <th>name</th>\n",
       "      <th>date</th>\n",
       "    </tr>\n",
       "  </thead>\n",
       "  <tbody>\n",
       "    <tr>\n",
       "      <th>18</th>\n",
       "      <td>10750</td>\n",
       "      <td>22</td>\n",
       "      <td>Utilities</td>\n",
       "      <td>2000-01-01</td>\n",
       "    </tr>\n",
       "    <tr>\n",
       "      <th>38</th>\n",
       "      <td>11000</td>\n",
       "      <td>22</td>\n",
       "      <td>Utilities</td>\n",
       "      <td>2000-02-01</td>\n",
       "    </tr>\n",
       "    <tr>\n",
       "      <th>58</th>\n",
       "      <td>11000</td>\n",
       "      <td>22</td>\n",
       "      <td>Utilities</td>\n",
       "      <td>2000-03-01</td>\n",
       "    </tr>\n",
       "    <tr>\n",
       "      <th>78</th>\n",
       "      <td>10250</td>\n",
       "      <td>22</td>\n",
       "      <td>Utilities</td>\n",
       "      <td>2000-04-01</td>\n",
       "    </tr>\n",
       "    <tr>\n",
       "      <th>98</th>\n",
       "      <td>10750</td>\n",
       "      <td>22</td>\n",
       "      <td>Utilities</td>\n",
       "      <td>2000-05-01</td>\n",
       "    </tr>\n",
       "  </tbody>\n",
       "</table>\n",
       "</div>"
      ],
      "text/plain": [
       "   _EMPLOYMENT_ code       name       date\n",
       "18        10750   22  Utilities 2000-01-01\n",
       "38        11000   22  Utilities 2000-02-01\n",
       "58        11000   22  Utilities 2000-03-01\n",
       "78        10250   22  Utilities 2000-04-01\n",
       "98        10750   22  Utilities 2000-05-01"
      ]
     },
     "execution_count": 30,
     "metadata": {},
     "output_type": "execute_result"
    }
   ],
   "source": [
    "r2_c.head()"
   ]
  },
  {
   "cell_type": "code",
   "execution_count": 31,
   "id": "db561cf8",
   "metadata": {},
   "outputs": [
    {
     "data": {
      "text/html": [
       "<div>\n",
       "<style scoped>\n",
       "    .dataframe tbody tr th:only-of-type {\n",
       "        vertical-align: middle;\n",
       "    }\n",
       "\n",
       "    .dataframe tbody tr th {\n",
       "        vertical-align: top;\n",
       "    }\n",
       "\n",
       "    .dataframe thead th {\n",
       "        text-align: right;\n",
       "    }\n",
       "</style>\n",
       "<table border=\"1\" class=\"dataframe\">\n",
       "  <thead>\n",
       "    <tr style=\"text-align: right;\">\n",
       "      <th></th>\n",
       "      <th>_EMPLOYMENT_</th>\n",
       "      <th>code</th>\n",
       "      <th>name</th>\n",
       "      <th>date</th>\n",
       "    </tr>\n",
       "  </thead>\n",
       "  <tbody>\n",
       "    <tr>\n",
       "      <th>118</th>\n",
       "      <td>5500</td>\n",
       "      <td>3366</td>\n",
       "      <td>Ship and boat building</td>\n",
       "      <td>2000-01-01</td>\n",
       "    </tr>\n",
       "    <tr>\n",
       "      <th>430</th>\n",
       "      <td>5000</td>\n",
       "      <td>3366</td>\n",
       "      <td>Ship and boat building</td>\n",
       "      <td>2000-02-01</td>\n",
       "    </tr>\n",
       "    <tr>\n",
       "      <th>742</th>\n",
       "      <td>6250</td>\n",
       "      <td>3366</td>\n",
       "      <td>Ship and boat building</td>\n",
       "      <td>2000-03-01</td>\n",
       "    </tr>\n",
       "    <tr>\n",
       "      <th>1054</th>\n",
       "      <td>7750</td>\n",
       "      <td>3366</td>\n",
       "      <td>Ship and boat building</td>\n",
       "      <td>2000-04-01</td>\n",
       "    </tr>\n",
       "    <tr>\n",
       "      <th>1366</th>\n",
       "      <td>7750</td>\n",
       "      <td>3366</td>\n",
       "      <td>Ship and boat building</td>\n",
       "      <td>2000-05-01</td>\n",
       "    </tr>\n",
       "  </tbody>\n",
       "</table>\n",
       "</div>"
      ],
      "text/plain": [
       "     _EMPLOYMENT_  code                    name       date\n",
       "118          5500  3366  Ship and boat building 2000-01-01\n",
       "430          5000  3366  Ship and boat building 2000-02-01\n",
       "742          6250  3366  Ship and boat building 2000-03-01\n",
       "1054         7750  3366  Ship and boat building 2000-04-01\n",
       "1366         7750  3366  Ship and boat building 2000-05-01"
      ]
     },
     "execution_count": 31,
     "metadata": {},
     "output_type": "execute_result"
    }
   ],
   "source": [
    "r4_c.head()"
   ]
  },
  {
   "cell_type": "markdown",
   "id": "5ad4537c",
   "metadata": {},
   "source": [
    "### Combining all the tables with required rows into a single table"
   ]
  },
  {
   "cell_type": "code",
   "execution_count": 32,
   "id": "3dd4dd8c",
   "metadata": {},
   "outputs": [],
   "source": [
    "final_tab = pd.concat([r2_c, r3_c, r4_c])\n",
    "final_tab.set_index('date', inplace=True)"
   ]
  },
  {
   "cell_type": "code",
   "execution_count": 33,
   "id": "18e02182",
   "metadata": {},
   "outputs": [
    {
     "data": {
      "text/html": [
       "<div>\n",
       "<style scoped>\n",
       "    .dataframe tbody tr th:only-of-type {\n",
       "        vertical-align: middle;\n",
       "    }\n",
       "\n",
       "    .dataframe tbody tr th {\n",
       "        vertical-align: top;\n",
       "    }\n",
       "\n",
       "    .dataframe thead th {\n",
       "        text-align: right;\n",
       "    }\n",
       "</style>\n",
       "<table border=\"1\" class=\"dataframe\">\n",
       "  <thead>\n",
       "    <tr style=\"text-align: right;\">\n",
       "      <th></th>\n",
       "      <th>_EMPLOYMENT_</th>\n",
       "      <th>code</th>\n",
       "      <th>name</th>\n",
       "    </tr>\n",
       "    <tr>\n",
       "      <th>date</th>\n",
       "      <th></th>\n",
       "      <th></th>\n",
       "      <th></th>\n",
       "    </tr>\n",
       "  </thead>\n",
       "  <tbody>\n",
       "    <tr>\n",
       "      <th>2000-01-01</th>\n",
       "      <td>10750</td>\n",
       "      <td>22</td>\n",
       "      <td>Utilities</td>\n",
       "    </tr>\n",
       "    <tr>\n",
       "      <th>2000-02-01</th>\n",
       "      <td>11000</td>\n",
       "      <td>22</td>\n",
       "      <td>Utilities</td>\n",
       "    </tr>\n",
       "    <tr>\n",
       "      <th>2000-03-01</th>\n",
       "      <td>11000</td>\n",
       "      <td>22</td>\n",
       "      <td>Utilities</td>\n",
       "    </tr>\n",
       "    <tr>\n",
       "      <th>2000-04-01</th>\n",
       "      <td>10250</td>\n",
       "      <td>22</td>\n",
       "      <td>Utilities</td>\n",
       "    </tr>\n",
       "    <tr>\n",
       "      <th>2000-05-01</th>\n",
       "      <td>10750</td>\n",
       "      <td>22</td>\n",
       "      <td>Utilities</td>\n",
       "    </tr>\n",
       "  </tbody>\n",
       "</table>\n",
       "</div>"
      ],
      "text/plain": [
       "           _EMPLOYMENT_ code       name\n",
       "date                                   \n",
       "2000-01-01        10750   22  Utilities\n",
       "2000-02-01        11000   22  Utilities\n",
       "2000-03-01        11000   22  Utilities\n",
       "2000-04-01        10250   22  Utilities\n",
       "2000-05-01        10750   22  Utilities"
      ]
     },
     "execution_count": 33,
     "metadata": {},
     "output_type": "execute_result"
    }
   ],
   "source": [
    "final_tab.head()"
   ]
  },
  {
   "cell_type": "markdown",
   "id": "3e16ccb8",
   "metadata": {},
   "source": [
    "### Plotting the total employees in each industry"
   ]
  },
  {
   "cell_type": "code",
   "execution_count": 34,
   "id": "44a96de0",
   "metadata": {},
   "outputs": [],
   "source": [
    "grouped = final_tab.groupby('name', as_index=False)['_EMPLOYMENT_'].sum().sort_values(by='_EMPLOYMENT_', ascending=False)"
   ]
  },
  {
   "cell_type": "code",
   "execution_count": 35,
   "id": "e02ac96a",
   "metadata": {
    "scrolled": false
   },
   "outputs": [
    {
     "data": {
      "image/png": "[encoded data removed]",
      "text/plain": [
       "<Figure size 504x1224 with 1 Axes>"
      ]
     },
     "metadata": {
      "needs_background": "light"
     },
     "output_type": "display_data"
    }
   ],
   "source": [
    "%matplotlib inline\n",
    "plt.figure(figsize=(7,17))\n",
    "sns.barplot(x='_EMPLOYMENT_', y='name', data=grouped)\n",
    "plt.title('Total Employees by Industry')\n",
    "plt.xlabel('Employee')\n",
    "plt.ylabel('Industry')\n",
    "plt.show()"
   ]
  },
  {
   "cell_type": "markdown",
   "id": "2bbe7481",
   "metadata": {},
   "source": [
    "### Selecting top 4 industry for further analysis"
   ]
  },
  {
   "cell_type": "code",
   "execution_count": 36,
   "id": "bb304432",
   "metadata": {},
   "outputs": [],
   "source": [
    "construction = final_tab[final_tab['name']=='Construction']\n",
    "food = final_tab[final_tab['name']=='Food services and drinking places']\n",
    "repair = final_tab[final_tab['name']=='Repair, personal and non-profit services']\n",
    "business = final_tab[final_tab['name']=='Business, building and other support services']"
   ]
  },
  {
   "cell_type": "code",
   "execution_count": 37,
   "id": "f9393f5d",
   "metadata": {},
   "outputs": [
    {
     "data": {
      "text/html": [
       "<div>\n",
       "<style scoped>\n",
       "    .dataframe tbody tr th:only-of-type {\n",
       "        vertical-align: middle;\n",
       "    }\n",
       "\n",
       "    .dataframe tbody tr th {\n",
       "        vertical-align: top;\n",
       "    }\n",
       "\n",
       "    .dataframe thead th {\n",
       "        text-align: right;\n",
       "    }\n",
       "</style>\n",
       "<table border=\"1\" class=\"dataframe\">\n",
       "  <thead>\n",
       "    <tr style=\"text-align: right;\">\n",
       "      <th></th>\n",
       "      <th>_EMPLOYMENT_</th>\n",
       "      <th>code</th>\n",
       "      <th>name</th>\n",
       "    </tr>\n",
       "    <tr>\n",
       "      <th>date</th>\n",
       "      <th></th>\n",
       "      <th></th>\n",
       "      <th></th>\n",
       "    </tr>\n",
       "  </thead>\n",
       "  <tbody>\n",
       "    <tr>\n",
       "      <th>2000-01-01</th>\n",
       "      <td>106250</td>\n",
       "      <td>23</td>\n",
       "      <td>Construction</td>\n",
       "    </tr>\n",
       "    <tr>\n",
       "      <th>2000-02-01</th>\n",
       "      <td>115000</td>\n",
       "      <td>23</td>\n",
       "      <td>Construction</td>\n",
       "    </tr>\n",
       "    <tr>\n",
       "      <th>2000-03-01</th>\n",
       "      <td>106750</td>\n",
       "      <td>23</td>\n",
       "      <td>Construction</td>\n",
       "    </tr>\n",
       "    <tr>\n",
       "      <th>2000-04-01</th>\n",
       "      <td>105500</td>\n",
       "      <td>23</td>\n",
       "      <td>Construction</td>\n",
       "    </tr>\n",
       "    <tr>\n",
       "      <th>2000-05-01</th>\n",
       "      <td>113500</td>\n",
       "      <td>23</td>\n",
       "      <td>Construction</td>\n",
       "    </tr>\n",
       "  </tbody>\n",
       "</table>\n",
       "</div>"
      ],
      "text/plain": [
       "           _EMPLOYMENT_ code          name\n",
       "date                                      \n",
       "2000-01-01       106250   23  Construction\n",
       "2000-02-01       115000   23  Construction\n",
       "2000-03-01       106750   23  Construction\n",
       "2000-04-01       105500   23  Construction\n",
       "2000-05-01       113500   23  Construction"
      ]
     },
     "execution_count": 37,
     "metadata": {},
     "output_type": "execute_result"
    }
   ],
   "source": [
    "construction.head()"
   ]
  },
  {
   "cell_type": "markdown",
   "id": "ccaa9b73",
   "metadata": {},
   "source": [
    "### Comparing the average employees year wise"
   ]
  },
  {
   "cell_type": "code",
   "execution_count": 42,
   "id": "153c3abf",
   "metadata": {},
   "outputs": [
    {
     "name": "stderr",
     "output_type": "stream",
     "text": [
      "<ipython-input-42-33bf407e5df1>:1: SettingWithCopyWarning: \n",
      "A value is trying to be set on a copy of a slice from a DataFrame.\n",
      "Try using .loc[row_indexer,col_indexer] = value instead\n",
      "\n",
      "See the caveats in the documentation: https://pandas.pydata.org/pandas-docs/stable/user_guide/indexing.html#returning-a-view-versus-a-copy\n",
      "  construction['_EMPLOYMENT_'] = construction['_EMPLOYMENT_'].astype('int')\n"
     ]
    },
    {
     "data": {
      "image/png": "[encoded data removed]",
      "text/plain": [
       "<Figure size 864x360 with 1 Axes>"
      ]
     },
     "metadata": {
      "needs_background": "light"
     },
     "output_type": "display_data"
    }
   ],
   "source": [
    "construction['_EMPLOYMENT_'] = construction['_EMPLOYMENT_'].astype('int')\n",
    "plt.subplots(figsize=(12,5))\n",
    "construction.resample('Y')['_EMPLOYMENT_'].mean().plot(kind='bar')\n",
    "plt.title('Average Construction Employee per year')\n",
    "plt.xlabel('Year')\n",
    "plt.ylabel('Employees')\n",
    "plt.show()"
   ]
  },
  {
   "cell_type": "markdown",
   "id": "4fa02e91",
   "metadata": {},
   "source": [
    "### Comparing the total employees every month in top 4 industries"
   ]
  },
  {
   "cell_type": "code",
   "execution_count": 39,
   "id": "465bd7e5",
   "metadata": {},
   "outputs": [
    {
     "data": {
      "image/png": "[encoded data removed]",
      "text/plain": [
       "<Figure size 864x504 with 1 Axes>"
      ]
     },
     "metadata": {
      "needs_background": "light"
     },
     "output_type": "display_data"
    }
   ],
   "source": [
    "plt.subplots(figsize=(12,7))\n",
    "construction.resample('M')['_EMPLOYMENT_'].sum().plot(label = 'Construction')\n",
    "food.resample('M')['_EMPLOYMENT_'].sum().plot(label='Food')\n",
    "repair.resample('M')['_EMPLOYMENT_'].sum().plot(label='Repair')\n",
    "business.resample('M')['_EMPLOYMENT_'].sum().plot(label='Business')\n",
    "plt.title('Change in employees in various industries')\n",
    "plt.ylabel('Total Employees')\n",
    "plt.xlabel('Time')\n",
    "plt.legend()\n",
    "plt.show()"
   ]
  },
  {
   "cell_type": "code",
   "execution_count": 43,
   "id": "795b8b33",
   "metadata": {
    "scrolled": true
   },
   "outputs": [
    {
     "data": {
      "text/html": [
       "<div>\n",
       "<style scoped>\n",
       "    .dataframe tbody tr th:only-of-type {\n",
       "        vertical-align: middle;\n",
       "    }\n",
       "\n",
       "    .dataframe tbody tr th {\n",
       "        vertical-align: top;\n",
       "    }\n",
       "\n",
       "    .dataframe thead th {\n",
       "        text-align: right;\n",
       "    }\n",
       "</style>\n",
       "<table border=\"1\" class=\"dataframe\">\n",
       "  <thead>\n",
       "    <tr style=\"text-align: right;\">\n",
       "      <th></th>\n",
       "      <th>_EMPLOYMENT_</th>\n",
       "      <th>code</th>\n",
       "      <th>name</th>\n",
       "    </tr>\n",
       "    <tr>\n",
       "      <th>date</th>\n",
       "      <th></th>\n",
       "      <th></th>\n",
       "      <th></th>\n",
       "    </tr>\n",
       "  </thead>\n",
       "  <tbody>\n",
       "    <tr>\n",
       "      <th>1997-01-01</th>\n",
       "      <td>118000</td>\n",
       "      <td>23</td>\n",
       "      <td>Construction</td>\n",
       "    </tr>\n",
       "    <tr>\n",
       "      <th>1997-02-01</th>\n",
       "      <td>120000</td>\n",
       "      <td>23</td>\n",
       "      <td>Construction</td>\n",
       "    </tr>\n",
       "    <tr>\n",
       "      <th>1997-03-01</th>\n",
       "      <td>116750</td>\n",
       "      <td>23</td>\n",
       "      <td>Construction</td>\n",
       "    </tr>\n",
       "    <tr>\n",
       "      <th>1997-04-01</th>\n",
       "      <td>125500</td>\n",
       "      <td>23</td>\n",
       "      <td>Construction</td>\n",
       "    </tr>\n",
       "    <tr>\n",
       "      <th>1997-05-01</th>\n",
       "      <td>123750</td>\n",
       "      <td>23</td>\n",
       "      <td>Construction</td>\n",
       "    </tr>\n",
       "    <tr>\n",
       "      <th>...</th>\n",
       "      <td>...</td>\n",
       "      <td>...</td>\n",
       "      <td>...</td>\n",
       "    </tr>\n",
       "    <tr>\n",
       "      <th>2019-08-01</th>\n",
       "      <td>238250</td>\n",
       "      <td>23</td>\n",
       "      <td>Construction</td>\n",
       "    </tr>\n",
       "    <tr>\n",
       "      <th>2019-09-01</th>\n",
       "      <td>234000</td>\n",
       "      <td>23</td>\n",
       "      <td>Construction</td>\n",
       "    </tr>\n",
       "    <tr>\n",
       "      <th>2019-10-01</th>\n",
       "      <td>0</td>\n",
       "      <td>23</td>\n",
       "      <td>Construction</td>\n",
       "    </tr>\n",
       "    <tr>\n",
       "      <th>2019-11-01</th>\n",
       "      <td>0</td>\n",
       "      <td>23</td>\n",
       "      <td>Construction</td>\n",
       "    </tr>\n",
       "    <tr>\n",
       "      <th>2019-12-01</th>\n",
       "      <td>0</td>\n",
       "      <td>23</td>\n",
       "      <td>Construction</td>\n",
       "    </tr>\n",
       "  </tbody>\n",
       "</table>\n",
       "<p>276 rows × 3 columns</p>\n",
       "</div>"
      ],
      "text/plain": [
       "            _EMPLOYMENT_ code          name\n",
       "date                                       \n",
       "1997-01-01        118000   23  Construction\n",
       "1997-02-01        120000   23  Construction\n",
       "1997-03-01        116750   23  Construction\n",
       "1997-04-01        125500   23  Construction\n",
       "1997-05-01        123750   23  Construction\n",
       "...                  ...  ...           ...\n",
       "2019-08-01        238250   23  Construction\n",
       "2019-09-01        234000   23  Construction\n",
       "2019-10-01             0   23  Construction\n",
       "2019-11-01             0   23  Construction\n",
       "2019-12-01             0   23  Construction\n",
       "\n",
       "[276 rows x 3 columns]"
      ]
     },
     "execution_count": 43,
     "metadata": {},
     "output_type": "execute_result"
    }
   ],
   "source": [
    "construction.sort_index()"
   ]
  },
  {
   "cell_type": "markdown",
   "id": "ee57da4c",
   "metadata": {},
   "source": [
    "### Comparing the frequency of employees every month "
   ]
  },
  {
   "cell_type": "code",
   "execution_count": 41,
   "id": "c99e4ab8",
   "metadata": {},
   "outputs": [
    {
     "data": {
      "image/png": "[encoded data removed]",
      "text/plain": [
       "<Figure size 720x360 with 1 Axes>"
      ]
     },
     "metadata": {
      "needs_background": "light"
     },
     "output_type": "display_data"
    }
   ],
   "source": [
    "plt.subplots(figsize=(10,5))\n",
    "construction['_EMPLOYMENT_'].plot(kind='hist', bins=20, alpha=0.5, label='Construction')\n",
    "food['_EMPLOYMENT_'].plot(kind='hist', bins=20, histtype='step', label='Food')\n",
    "plt.title('Comparison of empoyee hiring in Construction and Food Service')\n",
    "plt.xlabel('Number of employees')\n",
    "plt.legend()\n",
    "plt.show()"
   ]
  },
  {
   "cell_type": "code",
   "execution_count": null,
   "id": "907d4641",
   "metadata": {},
   "outputs": [],
   "source": []
  }
 ],
 "metadata": {
  "kernelspec": {
   "display_name": "Python 3",
   "language": "python",
   "name": "python3"
  },
  "language_info": {
   "codemirror_mode": {
    "name": "ipython",
    "version": 3
   },
   "file_extension": ".py",
   "mimetype": "text/x-python",
   "name": "python",
   "nbconvert_exporter": "python",
   "pygments_lexer": "ipython3",
   "version": "3.8.8"
  }
 },
 "nbformat": 4,
 "nbformat_minor": 5
}
